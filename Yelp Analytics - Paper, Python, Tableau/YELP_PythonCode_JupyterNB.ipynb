{
 "cells": [
  {
   "cell_type": "markdown",
   "metadata": {},
   "source": [
    "## YELP DATASET CODE"
   ]
  },
  {
   "cell_type": "code",
   "execution_count": null,
   "metadata": {},
   "outputs": [],
   "source": [
    "#Import necessary libraries and packages\n",
    "import pandas as pd\n",
    "import numpy as np\n",
    "from pandas.io.json import json_normalize\n",
    "import matplotlib.pyplot as plt\n",
    "import seaborn as sns"
   ]
  },
  {
   "cell_type": "code",
   "execution_count": null,
   "metadata": {},
   "outputs": [],
   "source": [
    "#Import primary CSV data file\n",
    "business_original = pd.read_csv('business.csv')"
   ]
  },
  {
   "cell_type": "code",
   "execution_count": null,
   "metadata": {
    "scrolled": true
   },
   "outputs": [],
   "source": [
    "#First view of data \n",
    "business_original.head(15)"
   ]
  },
  {
   "cell_type": "code",
   "execution_count": null,
   "metadata": {},
   "outputs": [],
   "source": [
    "#Determine the actual span of our data\n",
    "business_original.shape"
   ]
  },
  {
   "cell_type": "code",
   "execution_count": null,
   "metadata": {},
   "outputs": [],
   "source": [
    "#Unique cities in dataset\n",
    "business_original['city'].nunique()"
   ]
  },
  {
   "cell_type": "code",
   "execution_count": null,
   "metadata": {},
   "outputs": [],
   "source": [
    "#Assess the data types for ease of analysis\n",
    "business_original.info()"
   ]
  },
  {
   "cell_type": "code",
   "execution_count": null,
   "metadata": {},
   "outputs": [],
   "source": [
    "#Check for duplicate records in the dataset\n",
    "business_original.duplicated().sum()"
   ]
  },
  {
   "cell_type": "code",
   "execution_count": null,
   "metadata": {
    "scrolled": true
   },
   "outputs": [],
   "source": [
    "#Check for Null values \n",
    "business_original.isnull().sum()"
   ]
  },
  {
   "cell_type": "code",
   "execution_count": null,
   "metadata": {},
   "outputs": [],
   "source": [
    "#check what percentage of hours is null\n",
    "(business_original.hours.isnull().sum()/len(business_original))*100"
   ]
  },
  {
   "cell_type": "code",
   "execution_count": null,
   "metadata": {},
   "outputs": [],
   "source": [
    "#hours is not really useful and has a bad format so we drop it\n",
    "business_original.drop('hours', axis=1, inplace=True)"
   ]
  },
  {
   "cell_type": "code",
   "execution_count": null,
   "metadata": {},
   "outputs": [],
   "source": [
    "#updated span/size of dataset\n",
    "business_original.shape"
   ]
  },
  {
   "cell_type": "code",
   "execution_count": null,
   "metadata": {},
   "outputs": [],
   "source": [
    "#Analyze the state column to determine which states will be of use\n",
    "business_original['state'].value_counts()"
   ]
  },
  {
   "cell_type": "code",
   "execution_count": null,
   "metadata": {},
   "outputs": [],
   "source": [
    "#Visulaize the distribution above\n",
    "ax = business_original['state'].value_counts()\n",
    "ax.plot.bar(figsize = (16,4), title=\"Count of Business Records for each State\")"
   ]
  },
  {
   "cell_type": "code",
   "execution_count": null,
   "metadata": {},
   "outputs": [],
   "source": [
    "#Graph new order of states\n",
    "filt = ['AZ','NV','NC','OH','PA']\n",
    "state_filt= business_original['state'].isin(filt)\n",
    "graph=business_original[state_filt]"
   ]
  },
  {
   "cell_type": "code",
   "execution_count": null,
   "metadata": {},
   "outputs": [],
   "source": [
    "ax_1 = graph['state'].value_counts()\n",
    "ax_1.plot.bar(figsize = (16,4), title=\"Count of Business Records for each State\")"
   ]
  },
  {
   "cell_type": "code",
   "execution_count": null,
   "metadata": {
    "scrolled": true
   },
   "outputs": [],
   "source": [
    "#Hence, filter needs only relevant states\n",
    "filt1 = ['AZ','NV','NC','OH','PA']\n",
    "state_filt1= business_original['state'].isin(filt1)\n",
    "business = business_original[state_filt1]\n",
    "business.head()"
   ]
  },
  {
   "cell_type": "code",
   "execution_count": null,
   "metadata": {},
   "outputs": [],
   "source": [
    "business['state'].value_counts()"
   ]
  },
  {
   "cell_type": "code",
   "execution_count": null,
   "metadata": {},
   "outputs": [],
   "source": [
    "#How many records do we have left to work with?\n",
    "business.shape"
   ]
  },
  {
   "cell_type": "code",
   "execution_count": null,
   "metadata": {},
   "outputs": [],
   "source": [
    "#Begin exploration of categories\n",
    "#Check for null values\n",
    "business['categories'].isnull().sum()"
   ]
  },
  {
   "cell_type": "code",
   "execution_count": null,
   "metadata": {
    "scrolled": true
   },
   "outputs": [],
   "source": [
    "#Replace null values\n",
    "business[\"categories\"].fillna(\"\",inplace=True)"
   ]
  },
  {
   "cell_type": "code",
   "execution_count": null,
   "metadata": {},
   "outputs": [],
   "source": [
    "#Reset index and drop unneccessry columns\n",
    "business=business.reset_index().drop(columns=['Unnamed: 0','index'])"
   ]
  },
  {
   "cell_type": "code",
   "execution_count": null,
   "metadata": {},
   "outputs": [],
   "source": [
    "#Filter out only records that fall into important categories\n",
    "targets = ['Restaurants', 'Fast Food','Shopping','Beauty','Spa','Nightlife','Auto', 'Arts','Entertainment','Active Life']\n",
    "business=business[business.categories.str.contains('|'.join(targets))]\n"
   ]
  },
  {
   "cell_type": "code",
   "execution_count": null,
   "metadata": {},
   "outputs": [],
   "source": [
    "#What do we have left?\n",
    "business.shape"
   ]
  },
  {
   "cell_type": "code",
   "execution_count": null,
   "metadata": {},
   "outputs": [],
   "source": [
    "#CREATE FUNCTION TO SINGLE OUT AREA OF PRIMARY INTEREST FOR ANALYSIS"
   ]
  },
  {
   "cell_type": "code",
   "execution_count": null,
   "metadata": {},
   "outputs": [],
   "source": [
    "def Restaurant(x):\n",
    "     if ('restaurants' in x.lower()) or ('fast food' in x.lower()) or ('restaurant' in x.lower()):\n",
    "        return 1\n",
    "     else:\n",
    "        return 0"
   ]
  },
  {
   "cell_type": "code",
   "execution_count": null,
   "metadata": {},
   "outputs": [],
   "source": [
    "business[\"Restaurant\"] = business[\"categories\"].apply(Restaurant)\n",
    "business[[\"categories\",\"Restaurant\"]].head(10)"
   ]
  },
  {
   "cell_type": "code",
   "execution_count": null,
   "metadata": {},
   "outputs": [],
   "source": [
    "business[\"Restaurant\"].sum()"
   ]
  },
  {
   "cell_type": "markdown",
   "metadata": {},
   "source": [
    "# Extracting Attributes"
   ]
  },
  {
   "cell_type": "code",
   "execution_count": null,
   "metadata": {},
   "outputs": [],
   "source": [
    "#Expand attributes columns by splitting and create dummy variables\n",
    "business[\"attributes\"]=business[\"attributes\"].str.replace(\"{\",\"\")\n",
    "business[\"attributes\"]=business[\"attributes\"].str.replace(\"}\",\"\")\n",
    "business[\"attributes\"]=business[\"attributes\"].str.replace(\"'\",\"\")\n",
    "business[\"attributes\"]=business[\"attributes\"].str.replace('\"',\"\")\n",
    "business[\"attributes\"]=business[\"attributes\"].astype(str)\n",
    "pd.set_option('display.max_columns', 50)\n",
    "business.head()"
   ]
  },
  {
   "cell_type": "code",
   "execution_count": null,
   "metadata": {},
   "outputs": [],
   "source": [
    "#Create Parking variable\n",
    "def Parking(x):\n",
    "    if ('valet: True' in x) or ('garage: True' in x) or ('lot: True' in x):\n",
    "        return 1\n",
    "    else:\n",
    "        return 0"
   ]
  },
  {
   "cell_type": "code",
   "execution_count": null,
   "metadata": {},
   "outputs": [],
   "source": [
    "business['Parking']=business['attributes'].apply(Parking)\n"
   ]
  },
  {
   "cell_type": "code",
   "execution_count": null,
   "metadata": {},
   "outputs": [],
   "source": [
    "#Create Kid_friendly variable\n",
    "def Kid_friendly(x):\n",
    "    if 'GoodForKids: True' in x:\n",
    "        return 1\n",
    "    else:\n",
    "        return 0"
   ]
  },
  {
   "cell_type": "code",
   "execution_count": null,
   "metadata": {},
   "outputs": [],
   "source": [
    "business['Kid_friendly']=business['attributes'].apply(Kid_friendly)"
   ]
  },
  {
   "cell_type": "code",
   "execution_count": null,
   "metadata": {},
   "outputs": [],
   "source": [
    "#Create Reservations variable\n",
    "def Reservations(x):\n",
    "    if 'RestaurantsReservations: True' in x:\n",
    "        return 1\n",
    "    else:\n",
    "        return 0"
   ]
  },
  {
   "cell_type": "code",
   "execution_count": null,
   "metadata": {},
   "outputs": [],
   "source": [
    "business['Reservations'] = business['attributes'].apply(Reservations)"
   ]
  },
  {
   "cell_type": "code",
   "execution_count": null,
   "metadata": {},
   "outputs": [],
   "source": [
    "#Create Price range variable\n",
    "def Price_Range(x):\n",
    "    if 'RestaurantsPriceRange2: 1' in x:\n",
    "        return 1\n",
    "    elif 'RestaurantsPriceRange2: 2' in x:\n",
    "        return 2\n",
    "    elif 'RestaurantsPriceRange2: 3' in x:\n",
    "        return 3\n",
    "    else:\n",
    "        return 4"
   ]
  },
  {
   "cell_type": "code",
   "execution_count": null,
   "metadata": {},
   "outputs": [],
   "source": [
    "business['Price_Range'] = business['attributes'].apply(Price_Range)"
   ]
  },
  {
   "cell_type": "code",
   "execution_count": null,
   "metadata": {},
   "outputs": [],
   "source": [
    "#Create creditcard variable\n",
    "def Credit_card(x):\n",
    "    if \"BusinessAcceptsCreditCards: True\" in x:\n",
    "        return 1\n",
    "    else:\n",
    "        return 0"
   ]
  },
  {
   "cell_type": "code",
   "execution_count": null,
   "metadata": {},
   "outputs": [],
   "source": [
    "business['Credit_card'] = business['attributes'].apply(Credit_card)"
   ]
  },
  {
   "cell_type": "code",
   "execution_count": null,
   "metadata": {},
   "outputs": [],
   "source": [
    "#Create wheelchair access variable\n",
    "def wheelchair_access(x):\n",
    "    if 'WheelchairAccessible: True' in x:\n",
    "        return 1\n",
    "    else:\n",
    "        return 0"
   ]
  },
  {
   "cell_type": "code",
   "execution_count": null,
   "metadata": {},
   "outputs": [],
   "source": [
    "business['wheelchair_access'] = business['attributes'].apply(wheelchair_access)"
   ]
  },
  {
   "cell_type": "code",
   "execution_count": null,
   "metadata": {},
   "outputs": [],
   "source": [
    "#Create breakfast variable\n",
    "def good_for_breakfast (x):\n",
    "    if 'breakfast: True' in x:\n",
    "        return 1\n",
    "    else:\n",
    "        return 0"
   ]
  },
  {
   "cell_type": "code",
   "execution_count": null,
   "metadata": {},
   "outputs": [],
   "source": [
    "business['good_for_breakfast'] = business['attributes'].apply(good_for_breakfast)"
   ]
  },
  {
   "cell_type": "code",
   "execution_count": null,
   "metadata": {},
   "outputs": [],
   "source": [
    "#Create lunch variable\n",
    "def good_for_lunch (x):\n",
    "    if 'lunch: True' in x:\n",
    "        return 1\n",
    "    else:\n",
    "        return 0"
   ]
  },
  {
   "cell_type": "code",
   "execution_count": null,
   "metadata": {},
   "outputs": [],
   "source": [
    "business['good_for_lunch'] = business['attributes'].apply(good_for_lunch)"
   ]
  },
  {
   "cell_type": "code",
   "execution_count": null,
   "metadata": {},
   "outputs": [],
   "source": [
    "#Create dinner variable\n",
    "def good_for_dinner (x):\n",
    "    if 'dinner: True' in x:\n",
    "        return 1\n",
    "    else:\n",
    "        return 0"
   ]
  },
  {
   "cell_type": "code",
   "execution_count": null,
   "metadata": {},
   "outputs": [],
   "source": [
    "business['good_for_dinner'] = business['attributes'].apply(good_for_dinner)"
   ]
  },
  {
   "cell_type": "code",
   "execution_count": null,
   "metadata": {},
   "outputs": [],
   "source": [
    "#Create alcohol variable\n",
    "def alcohol (x):\n",
    "    if ('Alcohol: ufull_bar' in x) or ('Alcohol: ubeer_and_wine' in x):\n",
    "        return 1\n",
    "    else:\n",
    "        return 0"
   ]
  },
  {
   "cell_type": "code",
   "execution_count": null,
   "metadata": {},
   "outputs": [],
   "source": [
    "business['alcohol'] = business['attributes'].apply(alcohol)"
   ]
  },
  {
   "cell_type": "code",
   "execution_count": null,
   "metadata": {},
   "outputs": [],
   "source": [
    "#Create happyhour variable\n",
    "def happyhour (x):\n",
    "    if 'HappyHour: True' in x :\n",
    "        return 1\n",
    "    else:\n",
    "        return 0"
   ]
  },
  {
   "cell_type": "code",
   "execution_count": null,
   "metadata": {},
   "outputs": [],
   "source": [
    "business['happyhour'] = business['attributes'].apply(happyhour)"
   ]
  },
  {
   "cell_type": "code",
   "execution_count": null,
   "metadata": {},
   "outputs": [],
   "source": [
    "#Create wifi variable\n",
    "def wifi (x):\n",
    "    if ('WiFi: ufree' in x) or ('WiFi: free' in x) or ('WiFi: yes' in x) or ('WiFi: uyes' in x) or ('WiFi: True' in x) or ('WiFi: uTrue' in x):\n",
    "        return 1\n",
    "    else:\n",
    "        return 0"
   ]
  },
  {
   "cell_type": "code",
   "execution_count": null,
   "metadata": {},
   "outputs": [],
   "source": [
    "business['wifi'] = business['attributes'].apply(wifi)"
   ]
  },
  {
   "cell_type": "code",
   "execution_count": null,
   "metadata": {},
   "outputs": [],
   "source": [
    "#Create table service variable\n",
    "def table_service (x):\n",
    "    if 'RestaurantsTableService: True' in x :\n",
    "        return 1\n",
    "    else:\n",
    "        return 0"
   ]
  },
  {
   "cell_type": "code",
   "execution_count": null,
   "metadata": {},
   "outputs": [],
   "source": [
    "business['table_service'] = business['attributes'].apply(table_service)"
   ]
  },
  {
   "cell_type": "code",
   "execution_count": null,
   "metadata": {},
   "outputs": [],
   "source": [
    "#Create Entertainment\n",
    "def Entertainment (x):\n",
    "    if ('HasTV: True' in x) or ('dj: True' in x) or ('background_music: True' in x) or ('jukebox: True' in x) or ('live: True' in x) or ('video: True' in x) or ('karaoke: True' in x):\n",
    "        return 1\n",
    "    else:\n",
    "        return 0"
   ]
  },
  {
   "cell_type": "code",
   "execution_count": null,
   "metadata": {},
   "outputs": [],
   "source": [
    "business['Entertainment'] = business['attributes'].apply(Entertainment)"
   ]
  },
  {
   "cell_type": "code",
   "execution_count": null,
   "metadata": {},
   "outputs": [],
   "source": [
    "#Create takeout variable\n",
    "def takeout (x):\n",
    "    if 'RestaurantsTakeOut: True' in x :\n",
    "        return 1\n",
    "    else:\n",
    "        return 0"
   ]
  },
  {
   "cell_type": "code",
   "execution_count": null,
   "metadata": {},
   "outputs": [],
   "source": [
    "business['Takeout'] = business['attributes'].apply(takeout)"
   ]
  },
  {
   "cell_type": "code",
   "execution_count": null,
   "metadata": {},
   "outputs": [],
   "source": [
    "#Create Noise_Level variable\n",
    "\n",
    "def Noise_Level(x):\n",
    "    if ('NoiseLevel: uquiet' in x) or ('NoiseLevel: quiet' in x):\n",
    "        return 1\n",
    "    elif ('NoiseLevel: uaverage' in x) or ('NoiseLevel: average' in x):\n",
    "        return 2\n",
    "    elif ('NoiseLevel: uloud' in x) or ('NoiseLevel: loud' in x):\n",
    "        return 3\n",
    "    else:\n",
    "        return 4"
   ]
  },
  {
   "cell_type": "code",
   "execution_count": null,
   "metadata": {},
   "outputs": [],
   "source": [
    "business['Noise_Level'] = business['attributes'].apply(Noise_Level)"
   ]
  },
  {
   "cell_type": "code",
   "execution_count": null,
   "metadata": {},
   "outputs": [],
   "source": [
    "#Create Reservations variable\n",
    "\n",
    "def Reservations (x):\n",
    "    if 'RestaurantsReservations: True' in x :\n",
    "        return 1\n",
    "    else:\n",
    "        return 0"
   ]
  },
  {
   "cell_type": "code",
   "execution_count": null,
   "metadata": {},
   "outputs": [],
   "source": [
    "business['Reservations'] = business['attributes'].apply(Reservations)"
   ]
  },
  {
   "cell_type": "code",
   "execution_count": null,
   "metadata": {},
   "outputs": [],
   "source": [
    "#Create Delivery variable\n",
    "\n",
    "def Delivery (x):\n",
    "    if 'RestaurantsDelivery: True' in x :\n",
    "        return 1\n",
    "    else:\n",
    "        return 0"
   ]
  },
  {
   "cell_type": "code",
   "execution_count": null,
   "metadata": {},
   "outputs": [],
   "source": [
    "business['Delivery'] = business['attributes'].apply(Delivery)"
   ]
  },
  {
   "cell_type": "markdown",
   "metadata": {},
   "source": [
    "# Extracting Categories"
   ]
  },
  {
   "cell_type": "code",
   "execution_count": null,
   "metadata": {},
   "outputs": [],
   "source": [
    "#Create FastFood variable\n",
    "def FastFood (x):\n",
    "    if 'Fast Food' in x :\n",
    "        return 1\n",
    "    else:\n",
    "        return 0"
   ]
  },
  {
   "cell_type": "code",
   "execution_count": null,
   "metadata": {},
   "outputs": [],
   "source": [
    "business['FastFood'] = business['categories'].apply(FastFood)"
   ]
  },
  {
   "cell_type": "code",
   "execution_count": null,
   "metadata": {},
   "outputs": [],
   "source": [
    "#Create Ethnicity variable\n",
    "def ethnicity (x):\n",
    "    if ('american' in x.lower()) or ('burgers' in x.lower()):\n",
    "        return 'American'\n",
    "    elif 'chinese' in x.lower():\n",
    "        return 'Chinese'\n",
    "    elif ('mexican' in x.lower()) or (\"tex-mex\"in x.lower()):\n",
    "        return 'Mexican'\n",
    "    elif 'italian' in x.lower():\n",
    "        return 'Italian'\n",
    "    elif ('japanese' in x.lower()) or ('sushi' in x.lower()):\n",
    "        return 'Japanese'\n",
    "   # elif 'thai' in x.lower():\n",
    "      #  return 'Thai'\n",
    "   # elif 'indian' in x.lower():\n",
    "      #  return 'Indian'\n",
    "   # elif 'korean' in x.lower():\n",
    "      #  return 'Korean'\n",
    "    else: \n",
    "        return 'other'"
   ]
  },
  {
   "cell_type": "code",
   "execution_count": null,
   "metadata": {},
   "outputs": [],
   "source": [
    "business['Ethnicity'] = business['categories'].apply(ethnicity)"
   ]
  },
  {
   "cell_type": "code",
   "execution_count": null,
   "metadata": {},
   "outputs": [],
   "source": [
    "#Remove foreign symbols from name to allow for counting chains\n",
    "business[\"name\"]=business[\"name\"].str.replace(' ',\"\")\n",
    "business[\"name\"]=business[\"name\"].str.replace(\"'\",\"\")\n",
    "business[\"name\"]=business[\"name\"].str.replace(',',\"\")\n",
    "business[\"name\"]=business[\"name\"].str.replace('.',\"\")\n",
    "\n",
    "business[\"name\"]=business[\"name\"].astype(str)\n",
    "business[\"name\"]=business[\"name\"].str.lower()\n"
   ]
  },
  {
   "cell_type": "code",
   "execution_count": null,
   "metadata": {
    "scrolled": true
   },
   "outputs": [],
   "source": [
    "#Select only restaurants for data analysis before chain is counted\n",
    "Rest_filt= business[\"Restaurant\"]==1\n",
    "Restaurant=business[Rest_filt]\n",
    "Restaurant.head(10)"
   ]
  },
  {
   "cell_type": "code",
   "execution_count": null,
   "metadata": {},
   "outputs": [],
   "source": [
    "#Create chain counts column by counting occurence of names\n",
    "Restaurant['Chain_Counts'] = Restaurant.groupby(['name'])['name'].transform('count')"
   ]
  },
  {
   "cell_type": "code",
   "execution_count": null,
   "metadata": {},
   "outputs": [],
   "source": [
    "#Declare chain if chain counts is 4 or more.\n",
    "def Chain (x):\n",
    "    if x >= 4 :\n",
    "        return 1\n",
    "    else:\n",
    "        return 0"
   ]
  },
  {
   "cell_type": "code",
   "execution_count": null,
   "metadata": {
    "scrolled": true
   },
   "outputs": [],
   "source": [
    "#Create Is_Chain column\n",
    "Restaurant['Is_Chain'] = Restaurant['Chain_Counts'].apply(Chain)"
   ]
  },
  {
   "cell_type": "code",
   "execution_count": null,
   "metadata": {},
   "outputs": [],
   "source": [
    "#Drop longitude and latitude since they're not needed\n",
    "Restaurant.drop(columns=['longitude','latitude'], inplace=True)"
   ]
  },
  {
   "cell_type": "code",
   "execution_count": null,
   "metadata": {},
   "outputs": [],
   "source": [
    "#Confirm shape of DF\n",
    "Restaurant.shape"
   ]
  },
  {
   "cell_type": "code",
   "execution_count": null,
   "metadata": {},
   "outputs": [],
   "source": [
    "#Check for number of Open restaurants\n",
    "Restaurant['is_open'].sum()"
   ]
  },
  {
   "cell_type": "code",
   "execution_count": null,
   "metadata": {},
   "outputs": [],
   "source": [
    "#Check for number of Closed restaurants\n",
    "len(Restaurant['is_open'])-(Restaurant['is_open'].sum())"
   ]
  },
  {
   "cell_type": "code",
   "execution_count": null,
   "metadata": {
    "scrolled": true
   },
   "outputs": [],
   "source": [
    "#Check again for null values\n",
    "Restaurant.isnull().sum()"
   ]
  },
  {
   "cell_type": "code",
   "execution_count": null,
   "metadata": {},
   "outputs": [],
   "source": [
    "#Make pie chart to show distribution of open and closed businesses'\n",
    "\n",
    "# Pie chart\n",
    "labels = [\"Open\", 'Closed']\n",
    "sizes = [23867, 11438]\n",
    "#colors\n",
    "colors = ['Lime','Red']\n",
    " \n",
    "fig1, ax1 = plt.subplots(figsize=(10,5))\n",
    "fig1.subplots_adjust(0.3,0,1,1)\n",
    "patches, texts, autotexts = ax1.pie(sizes, colors = colors, labels=labels, autopct='%1.1f%%', startangle=90)\n",
    "for text in texts:\n",
    "    text.set_color('black')\n",
    "    text.set_size(12)\n",
    "for autotext in autotexts:\n",
    "    autotext.set_color('black')\n",
    "    autotext.set_size(14)\n",
    "\n",
    "# Equal aspect ratio ensures that pie is drawn as a circle\n",
    "ax1.axis('equal')  \n",
    "plt.tight_layout()\n",
    "plt.show()"
   ]
  },
  {
   "cell_type": "code",
   "execution_count": null,
   "metadata": {},
   "outputs": [],
   "source": [
    "Restaurant.state.value_counts()"
   ]
  },
  {
   "cell_type": "code",
   "execution_count": null,
   "metadata": {},
   "outputs": [],
   "source": [
    "Restaurant.postal_code.value_counts() #Reject"
   ]
  },
  {
   "cell_type": "code",
   "execution_count": null,
   "metadata": {},
   "outputs": [],
   "source": [
    "#Check for ethnicity distribution\n",
    "#Looks very skewed so it may not be used. There are 600 levels. This does not seem feasible for analysis within this time frame.\n",
    "Restaurant.Ethnicity.value_counts()"
   ]
  },
  {
   "cell_type": "code",
   "execution_count": null,
   "metadata": {},
   "outputs": [],
   "source": [
    "Restaurant.head()"
   ]
  },
  {
   "cell_type": "code",
   "execution_count": null,
   "metadata": {},
   "outputs": [],
   "source": [
    "Restaurant.shape\n"
   ]
  },
  {
   "cell_type": "code",
   "execution_count": null,
   "metadata": {},
   "outputs": [],
   "source": []
  }
 ],
 "metadata": {
  "kernelspec": {
   "display_name": "Python 3",
   "language": "python",
   "name": "python3"
  },
  "language_info": {
   "codemirror_mode": {
    "name": "ipython",
    "version": 3
   },
   "file_extension": ".py",
   "mimetype": "text/x-python",
   "name": "python",
   "nbconvert_exporter": "python",
   "pygments_lexer": "ipython3",
   "version": "3.7.4"
  }
 },
 "nbformat": 4,
 "nbformat_minor": 2
}
